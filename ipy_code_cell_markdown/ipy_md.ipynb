{
 "cells": [
  {
   "cell_type": "code",
   "execution_count": 1,
   "metadata": {},
   "outputs": [],
   "source": [
    "import sys\n",
    "from enum import Enum\n",
    "from forbiddenfruit import curse\n",
    "from IPython.display import display, Markdown, Latex, Math, HTML, Pretty\n",
    "class DisplayType(Enum):\n",
    "    MARKDOWN = Markdown\n",
    "    LATEX = Latex\n",
    "    MATH = Math\n",
    "    HTML = HTML\n",
    "    PRETTY = Pretty\n",
    "\n",
    "def display_string(self, type=DisplayType.MARKDOWN):\n",
    "    if 'ipykernel' in sys.modules: display(type.value(self))\n",
    "curse(str, \"md\", display_string)\n"
   ]
  },
  {
   "cell_type": "code",
   "execution_count": 2,
   "metadata": {},
   "outputs": [
    {
     "data": {
      "text/markdown": [
       "Thus we have calculated the **volume** of the *cylinder* by using the formula\n",
       "$$ V = \\pi r^2 h $$\n",
       "\n",
       "Read on..."
      ],
      "text/plain": [
       "<IPython.core.display.Markdown object>"
      ]
     },
     "metadata": {},
     "output_type": "display_data"
    },
    {
     "data": {
      "text/markdown": [
       "Now we'll calculate the area as per $A = \\pi r^2 + 2 \\pi r h$."
      ],
      "text/plain": [
       "<IPython.core.display.Markdown object>"
      ]
     },
     "metadata": {},
     "output_type": "display_data"
    },
    {
     "data": {
      "text/html": [
       "<h2>Volume of a cone is given by:</h2>"
      ],
      "text/plain": [
       "<IPython.core.display.HTML object>"
      ]
     },
     "metadata": {},
     "output_type": "display_data"
    },
    {
     "data": {
      "text/latex": [
       "$\\displaystyle V = {1 \\over 3} \\pi r^2 h$"
      ],
      "text/plain": [
       "<IPython.core.display.Math object>"
      ]
     },
     "metadata": {},
     "output_type": "display_data"
    },
    {
     "data": {
      "text/plain": [
       "New array = \n",
       "[[1 2]\n",
       " [3 4]]"
      ]
     },
     "metadata": {},
     "output_type": "display_data"
    }
   ],
   "source": [
    "if __name__ == \"__main__\": # so that this doesn't run when called from other modules\n",
    "    import numpy as np\n",
    "    r = 5\n",
    "    h = 20\n",
    "    volume = np.pi * r**2 * h\n",
    "    \"\"\"Thus we have calculated the **volume** of the *cylinder* by using the formula\n",
    "$$ V = \\pi r^2 h $$\n",
    "\n",
    "Read on...\"\"\".md()\n",
    "    \"Now we'll calculate the area as per $A = \\pi r^2 + 2 \\pi r h$.\".md()\n",
    "    A = np.pi * r**2 + 2 * np.pi * r * h\n",
    "    \"<h2>Volume of a cone is given by:</h2>\".md(DisplayType.HTML)\n",
    "    \"V = {1 \\over 3} \\pi r^2 h\".md(DisplayType.MATH)\n",
    "    f\"New array = \\n{np.array_str(np.array([[1, 2],[3, 4]]))}\".md(DisplayType.PRETTY)\n",
    "\n"
   ]
  }
 ],
 "metadata": {
  "kernelspec": {
   "display_name": "Python 3",
   "language": "python",
   "name": "python3"
  },
  "language_info": {
   "codemirror_mode": {
    "name": "ipython",
    "version": 3
   },
   "file_extension": ".py",
   "mimetype": "text/x-python",
   "name": "python",
   "nbconvert_exporter": "python",
   "pygments_lexer": "ipython3",
   "version": "3.6.5"
  }
 },
 "nbformat": 4,
 "nbformat_minor": 2
}
